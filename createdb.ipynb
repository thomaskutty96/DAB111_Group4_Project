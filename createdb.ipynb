{
 "cells": [
  {
   "cell_type": "code",
   "execution_count": 1,
   "metadata": {},
   "outputs": [],
   "source": [
    "import sqlite3\n",
    "import requests\n",
    "import pandas as pd\n",
    "\n",
    "def create_db(url,filename,table_name):\n",
    "    response = requests.get(url)\n",
    "    if response.status_code == 200:\n",
    "        with open(filename,'wb')as file:\n",
    "            file.write(response.content)\n",
    "        df = pd.read_csv(filename)\n",
    "        con = sqlite3.connect('coviddata.db')\n",
    "        df.to_sql(table_name, con, if_exists='replace', index=False)\n",
    "        con.close()\n",
    "        return True\n",
    "    else:\n",
    "        print(\"Failed to open the given URL\")\n",
    "        return False"
   ]
  },
  {
   "cell_type": "code",
   "execution_count": 2,
   "metadata": {},
   "outputs": [
    {
     "data": {
      "text/plain": [
       "True"
      ]
     },
     "execution_count": 2,
     "metadata": {},
     "output_type": "execute_result"
    }
   ],
   "source": [
    "create_db('https://query.data.world/s/ms2dvdrmparb3do5xmaanbvepzpfu2?dws=00000','covid.csv', 'covid_data_table')"
   ]
  }
 ],
 "metadata": {
  "kernelspec": {
   "display_name": "Python 3",
   "language": "python",
   "name": "python3"
  },
  "language_info": {
   "codemirror_mode": {
    "name": "ipython",
    "version": 3
   },
   "file_extension": ".py",
   "mimetype": "text/x-python",
   "name": "python",
   "nbconvert_exporter": "python",
   "pygments_lexer": "ipython3",
   "version": "3.12.1"
  }
 },
 "nbformat": 4,
 "nbformat_minor": 2
}
